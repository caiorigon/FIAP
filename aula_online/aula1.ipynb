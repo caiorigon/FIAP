{
 "cells": [
  {
   "cell_type": "markdown",
   "metadata": {},
   "source": [
    "Modelo de Regressao, para prever valor das casas"
   ]
  },
  {
   "cell_type": "markdown",
   "metadata": {},
   "source": [
    "Importando os dados analisando"
   ]
  },
  {
   "cell_type": "code",
   "execution_count": null,
   "metadata": {},
   "outputs": [],
   "source": [
    "import pandas as pd\n",
    "import seaborn as sns\n",
    "import matplotlib.pyplot as plt\n",
    "\n",
    "df = pd.read_csv(\"dados_sobre_casas.csv\")\n",
    "\n",
    "# Atualiza o status dos pedidos na lista\n",
    "df.head(5)"
   ]
  },
  {
   "cell_type": "markdown",
   "metadata": {},
   "source": [
    "Devemos analisar se nosso dados possui valores nulos"
   ]
  },
  {
   "cell_type": "code",
   "execution_count": null,
   "metadata": {},
   "outputs": [],
   "source": [
    "# Se possuir algum campo nulo, removemos a linha nula ou substituimos pela mediana ou media para nao afetar o desvio padrao\n",
    "# trocar o nulo por 0 pode afetar o calculo do treinamento\n",
    "df.info()"
   ]
  },
  {
   "cell_type": "code",
   "execution_count": null,
   "metadata": {},
   "outputs": [],
   "source": [
    "sns.displot(df.valor_casa, kde=True, aspect=2)"
   ]
  },
  {
   "cell_type": "code",
   "execution_count": null,
   "metadata": {},
   "outputs": [],
   "source": [
    "df.valor_casa.describe().astype(str)"
   ]
  },
  {
   "cell_type": "code",
   "execution_count": null,
   "metadata": {},
   "outputs": [],
   "source": [
    "sns.displot(df.salario_medio_moradores_regiao, kde=True, aspect=2)"
   ]
  },
  {
   "cell_type": "code",
   "execution_count": null,
   "metadata": {},
   "outputs": [],
   "source": [
    "fig, axes = plt.subplots(nrows=1, ncols=2, figsize=(10, 4))\n",
    "sns.histplot(df.quantidade_media_comodos_regiao, kde=True, ax=axes[0])\n",
    "sns.boxplot(df.quantidade_media_comodos_regiao, ax=axes[1])"
   ]
  },
  {
   "cell_type": "code",
   "execution_count": null,
   "metadata": {},
   "outputs": [],
   "source": [
    "df.quantidade_media_comodos_regiao.describe()"
   ]
  },
  {
   "cell_type": "code",
   "execution_count": null,
   "metadata": {},
   "outputs": [],
   "source": [
    "sns.scatterplot(data=df, x=\"salario_medio_moradores_regiao\", y=\"valor_casa\")"
   ]
  },
  {
   "cell_type": "code",
   "execution_count": null,
   "metadata": {},
   "outputs": [],
   "source": [
    "sns.scatterplot(\n",
    "    data=df,\n",
    "    x=\"salario_medio_moradores_regiao\",\n",
    "    y=\"valor_casa\",\n",
    "    hue=\"quantidade_media_comodos_regiao\",\n",
    ")"
   ]
  },
  {
   "cell_type": "code",
   "execution_count": null,
   "metadata": {},
   "outputs": [],
   "source": [
    "sns.scatterplot(\n",
    "    data=df,\n",
    "    x=\"salario_medio_moradores_regiao\",\n",
    "    y=\"valor_casa\",\n",
    "    hue=\"idade_media_casas_regiao\",\n",
    ")"
   ]
  },
  {
   "cell_type": "code",
   "execution_count": null,
   "metadata": {},
   "outputs": [],
   "source": [
    "sns.scatterplot(data=df, x=\"idade_media_casas_regiao\", y=\"valor_casa\")"
   ]
  },
  {
   "cell_type": "code",
   "execution_count": null,
   "metadata": {},
   "outputs": [],
   "source": [
    "correlacao = df.corr()\n",
    "\n",
    "sns.heatmap(correlacao, annot=True, cmap=\"coolwarm\")"
   ]
  },
  {
   "cell_type": "markdown",
   "metadata": {},
   "source": [
    "Treinando um modelo de regressão"
   ]
  },
  {
   "cell_type": "code",
   "execution_count": null,
   "metadata": {},
   "outputs": [],
   "source": [
    "# removendo o valor da casa da entrada, pois ela é a saida\n",
    "X = df.drop(columns=[\"valor_casa\"])  # x é a entrada\n",
    "# saida é somente o valor da casa (o que eu quero prever)\n",
    "y = df.valor_casa  # y é a saida\n",
    "\n",
    "from sklearn.model_selection import train_test_split\n",
    "\n",
    "X_train, X_test, y_train, y_test = train_test_split(\n",
    "    X, y, test_size=0.15, random_state=78\n",
    ")\n",
    "\n",
    "X_train"
   ]
  },
  {
   "cell_type": "code",
   "execution_count": null,
   "metadata": {},
   "outputs": [],
   "source": [
    "from sklearn.linear_model import LinearRegression\n",
    "\n",
    "regression_model_1 = LinearRegression()\n",
    "regression_model_1.fit(X_train.values, y_train)\n",
    "\n",
    "regression_model_1.intercept_  # coeficiente linear da regressao"
   ]
  },
  {
   "cell_type": "code",
   "execution_count": null,
   "metadata": {},
   "outputs": [],
   "source": [
    "regression_model_1.coef_  # coeficiente angular, um para cada entrada"
   ]
  },
  {
   "cell_type": "code",
   "execution_count": null,
   "metadata": {},
   "outputs": [],
   "source": [
    "X_train.head(1)"
   ]
  },
  {
   "cell_type": "code",
   "execution_count": null,
   "metadata": {},
   "outputs": [],
   "source": [
    "y_train.head(1)"
   ]
  },
  {
   "cell_type": "code",
   "execution_count": null,
   "metadata": {},
   "outputs": [],
   "source": [
    "import locale\n",
    "\n",
    "novo_input = X_train.iloc[0]\n",
    "prediction = regression_model_1.predict([novo_input])\n",
    "\n",
    "locale.setlocale(locale.LC_ALL, \"\")\n",
    "locale.currency(prediction[0], grouping=True)"
   ]
  },
  {
   "cell_type": "code",
   "execution_count": null,
   "metadata": {},
   "outputs": [],
   "source": [
    "# Erro\n",
    "1533816 - 1332180"
   ]
  },
  {
   "cell_type": "markdown",
   "metadata": {},
   "source": [
    "Usando um modelo regressor diferente"
   ]
  },
  {
   "cell_type": "code",
   "execution_count": null,
   "metadata": {},
   "outputs": [],
   "source": [
    "from sklearn.ensemble import RandomForestRegressor\n",
    "\n",
    "regression_model_2 = RandomForestRegressor()\n",
    "regression_model_2.fit(X_train, y_train)\n",
    "\n",
    "regression_model_2.predict([novo_input])"
   ]
  },
  {
   "cell_type": "code",
   "execution_count": null,
   "metadata": {},
   "outputs": [],
   "source": [
    "1533816 - 1488014"
   ]
  },
  {
   "cell_type": "code",
   "execution_count": null,
   "metadata": {},
   "outputs": [],
   "source": [
    "from sklearn.metrics import (\n",
    "    r2_score,\n",
    "    mean_absolute_error,\n",
    "    mean_squared_error,\n",
    "    mean_absolute_percentage_error,\n",
    "    root_mean_squared_error,\n",
    ")\n",
    "\n",
    "predicoes_teste_1 = regression_model_1.predict(X_test)\n",
    "predicoes_teste_2 = regression_model_2.predict(X_test)\n",
    "\n",
    "print(r2_score(y_test, predicoes_teste_1))\n",
    "print(r2_score(y_test, predicoes_teste_2))"
   ]
  },
  {
   "cell_type": "code",
   "execution_count": null,
   "metadata": {},
   "outputs": [],
   "source": [
    "print(mean_absolute_error(y_test, predicoes_teste_1))\n",
    "print(mean_absolute_error(y_test, predicoes_teste_2))"
   ]
  },
  {
   "cell_type": "code",
   "execution_count": null,
   "metadata": {},
   "outputs": [],
   "source": [
    "print(mean_squared_error(y_test, predicoes_teste_1))\n",
    "print(mean_squared_error(y_test, predicoes_teste_2))"
   ]
  },
  {
   "cell_type": "code",
   "execution_count": null,
   "metadata": {},
   "outputs": [],
   "source": [
    "print(root_mean_squared_error(y_test, predicoes_teste_1))\n",
    "print(root_mean_squared_error(y_test, predicoes_teste_2))"
   ]
  },
  {
   "cell_type": "code",
   "execution_count": null,
   "metadata": {},
   "outputs": [],
   "source": [
    "print(mean_absolute_percentage_error(y_test, predicoes_teste_1))\n",
    "print(mean_absolute_percentage_error(y_test, predicoes_teste_2))"
   ]
  },
  {
   "cell_type": "code",
   "execution_count": null,
   "metadata": {},
   "outputs": [],
   "source": [
    "pd.set_option(\"display.float_format\", lambda x: \"%.3f\" % x)\n",
    "\n",
    "pd.DataFrame(\n",
    "    zip(y_test.values, predicoes_teste_1, predicoes_teste_2),\n",
    "    columns=[\"real\", \"modelo_1\", \"modelo_2\"],\n",
    ")"
   ]
  }
 ],
 "metadata": {
  "kernelspec": {
   "display_name": "env_311",
   "language": "python",
   "name": "python3"
  },
  "language_info": {
   "codemirror_mode": {
    "name": "ipython",
    "version": 3
   },
   "file_extension": ".py",
   "mimetype": "text/x-python",
   "name": "python",
   "nbconvert_exporter": "python",
   "pygments_lexer": "ipython3",
   "version": "3.11.0"
  }
 },
 "nbformat": 4,
 "nbformat_minor": 2
}
